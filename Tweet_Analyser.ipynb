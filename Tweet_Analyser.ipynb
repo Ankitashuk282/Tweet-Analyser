{
  "cells": [
    {
      "cell_type": "markdown",
      "metadata": {
        "id": "view-in-github",
        "colab_type": "text"
      },
      "source": [
        "<a href=\"https://colab.research.google.com/github/Ankitashuk282/Tweet-Analyser/blob/main/Tweet_Analyser.ipynb\" target=\"_parent\"><img src=\"https://colab.research.google.com/assets/colab-badge.svg\" alt=\"Open In Colab\"/></a>"
      ]
    },
    {
      "cell_type": "markdown",
      "metadata": {
        "id": "oR08Nc8c9y63"
      },
      "source": [
        "# NLP: Sentiment Analysis from Tweets\n",
        "\n",
        "This project involves implementing functions for a text classifier, which I'll will train to identify the **sentiment expressed in a text** in a dataset of approx. 27,000 entries, which will be split into a 80%/20% training/test split.\n",
        "\n"
      ]
    },
    {
      "cell_type": "code",
      "source": [
        "!pip install nltk"
      ],
      "metadata": {
        "colab": {
          "base_uri": "https://localhost:8080/"
        },
        "id": "CPmqjpAuxFIB",
        "outputId": "5b6d0fd1-9f43-4d21-af15-93a5ad88c27a"
      },
      "execution_count": null,
      "outputs": [
        {
          "output_type": "stream",
          "name": "stdout",
          "text": [
            "Requirement already satisfied: nltk in /usr/local/lib/python3.10/dist-packages (3.8.1)\n",
            "Requirement already satisfied: click in /usr/local/lib/python3.10/dist-packages (from nltk) (8.1.7)\n",
            "Requirement already satisfied: joblib in /usr/local/lib/python3.10/dist-packages (from nltk) (1.3.2)\n",
            "Requirement already satisfied: regex>=2021.8.3 in /usr/local/lib/python3.10/dist-packages (from nltk) (2023.6.3)\n",
            "Requirement already satisfied: tqdm in /usr/local/lib/python3.10/dist-packages (from nltk) (4.66.1)\n"
          ]
        }
      ]
    },
    {
      "cell_type": "code",
      "execution_count": null,
      "metadata": {
        "id": "U-NZYBKu9y65"
      },
      "outputs": [],
      "source": [
        "import csv  # csv reader\n",
        "import nltk\n",
        "from sklearn.svm import LinearSVC\n",
        "from nltk.classify import SklearnClassifier\n",
        "from sklearn.pipeline import Pipeline\n",
        "from sklearn.metrics import precision_recall_fscore_support # to report on precision and recall\n",
        "from nltk.corpus import stopwords\n",
        "from nltk.stem import WordNetLemmatizer\n",
        "from nltk.corpus import wordnet\n",
        "\n",
        "import numpy as np\n",
        "import re"
      ]
    },
    {
      "cell_type": "code",
      "source": [
        "nltk.download('wordnet')\n",
        "nltk.download('stopwords')"
      ],
      "metadata": {
        "colab": {
          "base_uri": "https://localhost:8080/"
        },
        "id": "CUyAlSv4wzMG",
        "outputId": "c50b1e6f-9da0-44df-f10d-c6e09c73a2a7"
      },
      "execution_count": null,
      "outputs": [
        {
          "output_type": "stream",
          "name": "stderr",
          "text": [
            "[nltk_data] Downloading package wordnet to /root/nltk_data...\n",
            "[nltk_data]   Package wordnet is already up-to-date!\n",
            "[nltk_data] Downloading package stopwords to /root/nltk_data...\n",
            "[nltk_data]   Package stopwords is already up-to-date!\n",
            "[nltk_data] Downloading package punkt to /root/nltk_data...\n",
            "[nltk_data]   Unzipping tokenizers/punkt.zip.\n"
          ]
        },
        {
          "output_type": "execute_result",
          "data": {
            "text/plain": [
              "True"
            ]
          },
          "metadata": {},
          "execution_count": 83
        }
      ]
    },
    {
      "cell_type": "code",
      "execution_count": null,
      "metadata": {
        "id": "_eiP-FB19y66"
      },
      "outputs": [],
      "source": [
        "def load_data(path):\n",
        "    \"\"\"Load data from a tab-separated file and append it to raw_data.\"\"\"\n",
        "    with open(path) as f:\n",
        "        reader = csv.reader(f, delimiter='\\t')\n",
        "        for line in reader:\n",
        "            if line[0] == \"Id\":  # skip header\n",
        "                continue\n",
        "            (label, text) = parse_data_line(line)\n",
        "            raw_data.append((text, label))\n",
        "\n",
        "def split_and_preprocess_data(percentage):\n",
        "    \"\"\"Split the data between train_data and test_data according to the percentage\n",
        "    and performs the preprocessing.\"\"\"\n",
        "    num_samples = len(raw_data)\n",
        "    num_training_samples = int((percentage * num_samples))\n",
        "    for (text, label) in raw_data[:num_training_samples]:\n",
        "        train_data.append((to_feature_vector(pre_process(text), training=True),label))\n",
        "    for (text, label) in raw_data[num_training_samples:]:\n",
        "        test_data.append((to_feature_vector(pre_process(text)),label))\n"
      ]
    },
    {
      "cell_type": "markdown",
      "metadata": {
        "id": "t9Abc7g19y67"
      },
      "source": [
        "# Input and Basic preprocessing"
      ]
    },
    {
      "cell_type": "code",
      "execution_count": null,
      "metadata": {
        "id": "iE9qhX7B9y67"
      },
      "outputs": [],
      "source": [
        "def parse_data_line(data_line):\n",
        "    # Sample line would be: [1100010101, negative/positive, ----statement----]\n",
        "    # Should return a tuple of the label as just positive or negative and the statement\n",
        "    # e.g. (label, statement)\n",
        "\n",
        "    return (data_line[1], data_line[2])"
      ]
    },
    {
      "cell_type": "code",
      "execution_count": null,
      "metadata": {
        "id": "VtRgvzK39y67"
      },
      "outputs": [],
      "source": [
        "# Input: a string of one statement\n",
        "def pre_process(text):\n",
        "    # Splitting the text on space to get words\n",
        "    textList = text.split(\" \")\n",
        "    result = []\n",
        "\n",
        "    for word in textList:\n",
        "\n",
        "        # words starting with @ are usernames; don't tell anything about sentiment\n",
        "        if word.startswith('@'):\n",
        "          continue\n",
        "\n",
        "        # words starting with http or www are links; don't tell anything about sentiment\n",
        "        if word.startswith('http') or word.startswith('www'):\n",
        "          continue\n",
        "\n",
        "        # Emojis start with ':' and are important aspects of sentiment\n",
        "        # Handling emojis here as removing all symbols, if not an emoji\n",
        "        if (word.startswith(':')):\n",
        "            result.append(word.lower())\n",
        "            continue\n",
        "\n",
        "        # Removing symbols from prefix and suffix of the word\n",
        "        res = word.lstrip(\"'!@#$%^&*()-_+=[]{}|;:,.<>?/`~\")\n",
        "        res = res.rstrip(\"'!@#$%^&*()-_+=[]{}|;:,.<>?/`~ \")\n",
        "\n",
        "        if not res:\n",
        "          continue\n",
        "\n",
        "        # Normalising words by making them lowercase\n",
        "        result.append(res.lower())\n",
        "\n",
        "\n",
        "        # Lemmatizing the list\n",
        "        lemmatizer = WordNetLemmatizer()\n",
        "        lemmatized_verbs = [lemmatizer.lemmatize(word) for word in result]\n",
        "\n",
        "        # Using NTLK to remove stop words\n",
        "        stop_words = set(stopwords.words(\"english\"))\n",
        "        # Discarding negative words as they are strong negative sentiment features\n",
        "        stop_words.discard(\"don't\")\n",
        "        stop_words.discard(\"can't\")\n",
        "        stop_words.discard(\"would't\")\n",
        "        stop_words.discard(\"didn't\")\n",
        "        stop_words.discard(\"shouldn't\")\n",
        "        stop_words.discard(\"mustn't\")\n",
        "        stop_words.discard(\"haven't\")\n",
        "        stop_words.discard(\"wasn't\")\n",
        "        stop_words.discard(\"isn't\")\n",
        "        stop_words.discard(\"hasn't\")\n",
        "        stop_words.discard(\"wouldn't\")\n",
        "        filtered_result = [word for word in result if word not in stop_words]\n",
        "\n",
        "    return filtered_result\n"
      ]
    },
    {
      "cell_type": "markdown",
      "metadata": {
        "id": "fhTxA60Q9y68"
      },
      "source": [
        "# Basic Feature Extraction"
      ]
    },
    {
      "cell_type": "code",
      "execution_count": null,
      "metadata": {
        "id": "toPHjJ2X9y68"
      },
      "outputs": [],
      "source": [
        "from sklearn.feature_extraction.text import TfidfVectorizer\n",
        "\n",
        "global_feature_dict = {} # A global dictionary of features\n",
        "\n",
        "def to_feature_vector(tokens, training=False):\n",
        "    # Should return a dictionary containing features as keys, and weights as values\n",
        "\n",
        "    # Using Tfid Vectoizer for feature processing\n",
        "    feature_vector = {}\n",
        "\n",
        "    # Join all tokens to form a string; required by Tfid\n",
        "    document_strings = [' '.join(tokens)]\n",
        "\n",
        "    # TfidfVectorizer instance for both unigram and bigram ranges\n",
        "    tfidf_vectorizer = TfidfVectorizer(ngram_range=(1,2))\n",
        "\n",
        "    # Fit and transform the data\n",
        "    tfidf_matrix = tfidf_vectorizer.fit_transform(document_strings)\n",
        "\n",
        "    # Get feature names and weights\n",
        "    feature_names = tfidf_vectorizer.get_feature_names_out()\n",
        "    weighted_vector = tfidf_matrix.toarray()\n",
        "\n",
        "    for i in range(len(feature_names)):\n",
        "      feature_vector[feature_names[i]] = weighted_vector[0][i]\n",
        "      if training:\n",
        "        global_feature_dict[feature_names[i]] = 1\n",
        "\n",
        "    return feature_vector\n"
      ]
    },
    {
      "cell_type": "code",
      "execution_count": null,
      "metadata": {
        "id": "P4kvgABj9y68"
      },
      "outputs": [],
      "source": [
        "# TRAINING AND VALIDATING OUR CLASSIFIER\n",
        "\n",
        "def train_classifier(data):\n",
        "    print(\"Training Classifier...\")\n",
        "    pipeline =  Pipeline([('svc', LinearSVC())])\n",
        "    return SklearnClassifier(pipeline).train(data)"
      ]
    },
    {
      "cell_type": "markdown",
      "metadata": {
        "id": "tasOV2eo9y69"
      },
      "source": [
        "# Cross-validation"
      ]
    },
    {
      "cell_type": "code",
      "execution_count": null,
      "metadata": {
        "id": "siCiv_jv9y69"
      },
      "outputs": [],
      "source": [
        "#solution\n",
        "from sklearn.metrics import classification_report\n",
        "\n",
        "\n",
        "def cross_validate(dataset, folds):\n",
        "    results = []\n",
        "    fold_size = int(len(dataset)/folds)\n",
        "\n",
        "    count = 1\n",
        "    for i in range(0,len(dataset),int(fold_size)):\n",
        "        # insert code here that trains and tests on the 10 folds of data in the dataset\n",
        "        print(\"Fold start on items %d - %d\" % (i, i+fold_size))\n",
        "\n",
        "        # Finding the range of test_set\n",
        "        test_start = i\n",
        "        test_end = min(i + fold_size, len(dataset))\n",
        "\n",
        "        # Selecting test and training sets. (Test is 1/10 and training 9/10)\n",
        "        test_set = dataset[test_start:test_end]\n",
        "        train_set = dataset[:test_start] + dataset[test_end:]\n",
        "\n",
        "        classifier = train_classifier(train_set)  # train the classifier on train-set\n",
        "        test_true = [t[1] for t in test_set]   # get the ground-truth labels from the source data\n",
        "        test_pred = predict_labels([x[0] for x in test_set], classifier)  # classify the test data to get predicted labels\n",
        "        final_scores = precision_recall_fscore_support(test_true, test_pred, average='weighted') # evaluate\n",
        "        accuracy = np.mean(np.array(test_true) == np.array(test_pred))\n",
        "\n",
        "        results.append((final_scores, accuracy))\n",
        "\n",
        "    precision_values  = [val[0][0] for val in results]\n",
        "\n",
        "    precision_mean = sum(precision_values) / len(results)\n",
        "    recall_mean = sum([val[0][1] for val in results]) / len(results)\n",
        "    fscore_mean = sum([val[0][2] for val in results]) / len(results)\n",
        "    accuracy_mean = sum([val[1] for val in results]) / len(results)\n",
        "\n",
        "    cv_results = [precision_mean, recall_mean, fscore_mean, accuracy_mean]\n",
        "\n",
        "    return cv_results"
      ]
    },
    {
      "cell_type": "code",
      "execution_count": null,
      "metadata": {
        "id": "wc-n7x-69y69"
      },
      "outputs": [],
      "source": [
        "# PREDICTING LABELS GIVEN A CLASSIFIER\n",
        "\n",
        "def predict_labels(samples, classifier):\n",
        "    \"\"\"Assuming preprocessed samples, return their predicted labels from the classifier model.\"\"\"\n",
        "    return classifier.classify_many(samples)\n",
        "\n",
        "def predict_label_from_raw(sample, classifier):\n",
        "    \"\"\"Assuming raw text, return its predicted label from the classifier model.\"\"\"\n",
        "    return classifier.classify(to_feature_vector(preProcess(reviewSample)))"
      ]
    },
    {
      "cell_type": "code",
      "execution_count": null,
      "metadata": {
        "id": "QB8DamQe9y69",
        "colab": {
          "base_uri": "https://localhost:8080/"
        },
        "outputId": "80c1c8de-4653-4fd2-a189-fce9501dd4c1"
      },
      "outputs": [
        {
          "output_type": "stream",
          "name": "stdout",
          "text": [
            "Now 0 rawData, 0 trainData, 0 testData\n",
            "Preparing the dataset...\n",
            "Now 33540 rawData, 0 trainData, 0 testData\n",
            "Preparing training and test data...\n",
            "After split, 33540 rawData, 26832 trainData, 6708 testData\n",
            "Training Samples: \n",
            "26832\n",
            "Features: \n",
            "237686\n",
            "Sample rawData\n",
            "(\"Literally so excited I'm going to a Sam Smith concert in October\", 'positive')\n",
            "Sample train Data\n",
            "({'concert': 0.2773500981126146, 'concert october': 0.2773500981126146, 'excited': 0.2773500981126146, 'excited going': 0.2773500981126146, 'going': 0.2773500981126146, 'going sam': 0.2773500981126146, 'literally': 0.2773500981126146, 'literally excited': 0.2773500981126146, 'october': 0.2773500981126146, 'sam': 0.2773500981126146, 'sam smith': 0.2773500981126146, 'smith': 0.2773500981126146, 'smith concert': 0.2773500981126146}, 'positive')\n"
          ]
        }
      ],
      "source": [
        "# MAIN\n",
        "\n",
        "# loading reviews\n",
        "# initialize global lists that will be appended to by the methods below\n",
        "raw_data = []          # the filtered data from the dataset file\n",
        "train_data = []        # the pre-processed training data as a percentage of the total dataset\n",
        "test_data = []         # the pre-processed test data as a percentage of the total dataset\n",
        "\n",
        "\n",
        "# references to the data files\n",
        "data_file_path = 'sentiment-dataset.tsv'\n",
        "\n",
        "# Do the actual stuff (i.e. call the functions we've made)\n",
        "# We parse the dataset and put it in a raw data list\n",
        "print(\"Now %d rawData, %d trainData, %d testData\" % (len(raw_data), len(train_data), len(test_data)),\n",
        "      \"Preparing the dataset...\",sep='\\n')\n",
        "\n",
        "load_data(data_file_path)\n",
        "\n",
        "# We split the raw dataset into a set of training data and a set of test data (80/20)\n",
        "# You do the cross validation on the 80% (training data)\n",
        "# We print the number of training samples and the number of features before the split\n",
        "print(\"Now %d rawData, %d trainData, %d testData\" % (len(raw_data), len(train_data), len(test_data)),\n",
        "      \"Preparing training and test data...\",sep='\\n')\n",
        "\n",
        "split_and_preprocess_data(0.8)\n",
        "\n",
        "# We print the number of training samples and the number of features after the split\n",
        "print(\"After split, %d rawData, %d trainData, %d testData\" % (len(raw_data), len(train_data), len(test_data)),\n",
        "      \"Training Samples: \", len(train_data), \"Features: \", len(global_feature_dict), sep='\\n')\n",
        "\n",
        "\n",
        "print(\"Sample rawData\")\n",
        "print(raw_data[0])\n",
        "print(\"Sample train Data\")\n",
        "print(train_data[0])\n"
      ]
    },
    {
      "cell_type": "code",
      "execution_count": null,
      "metadata": {
        "id": "_n6E9XMl9y6-",
        "colab": {
          "base_uri": "https://localhost:8080/"
        },
        "outputId": "c336c37d-560b-44ef-b1e1-5ff955cf0d15"
      },
      "outputs": [
        {
          "output_type": "stream",
          "name": "stdout",
          "text": [
            "Fold start on items 0 - 2683\n",
            "Training Classifier...\n",
            "Fold start on items 2683 - 5366\n",
            "Training Classifier...\n",
            "Fold start on items 5366 - 8049\n",
            "Training Classifier...\n",
            "Fold start on items 8049 - 10732\n",
            "Training Classifier...\n",
            "Fold start on items 10732 - 13415\n",
            "Training Classifier...\n",
            "Fold start on items 13415 - 16098\n",
            "Training Classifier...\n",
            "Fold start on items 16098 - 18781\n",
            "Training Classifier...\n",
            "Fold start on items 18781 - 21464\n",
            "Training Classifier...\n",
            "Fold start on items 21464 - 24147\n",
            "Training Classifier...\n",
            "Fold start on items 24147 - 26830\n",
            "Training Classifier...\n",
            "Fold start on items 26830 - 29513\n",
            "Training Classifier...\n",
            "Precision Mean:  0.870709129123651\n",
            "Recall Mean:  0.8719547318130992\n",
            "F-score Mean:  0.8691340739574773\n",
            "Accuracy Mean:  0.8719547318130992\n"
          ]
        }
      ],
      "source": [
        "cross_validation_results = cross_validate(train_data, 10)  # will work and output overall performance of p, r, f-score when cv implemented\n",
        "\n",
        "print(\"Precision Mean: \",cross_validation_results[0])\n",
        "print(\"Recall Mean: \", cross_validation_results[1])\n",
        "print(\"F-score Mean: \", cross_validation_results[2])\n",
        "print(\"Accuracy Mean: \", cross_validation_results[3])"
      ]
    },
    {
      "cell_type": "markdown",
      "metadata": {
        "id": "PAxg3mma9y6-"
      },
      "source": [
        "# Error Analysis"
      ]
    },
    {
      "cell_type": "code",
      "execution_count": null,
      "metadata": {
        "id": "A1bRvwr39y6-"
      },
      "outputs": [],
      "source": [
        "from sklearn import metrics\n",
        "import matplotlib.pyplot as plt\n",
        "# a function to make the confusion matrix readable and pretty\n",
        "def confusion_matrix_heatmap(y_test, preds, labels):\n",
        "    \"\"\"Function to plot a confusion matrix\"\"\"\n",
        "    # pass labels to the confusion matrix function to ensure right order\n",
        "    # cm = metrics.confusion_matrix(y_test, preds, labels)\n",
        "    cm = metrics.confusion_matrix(y_test, preds, labels=labels)\n",
        "    fig = plt.figure(figsize=(10,10))\n",
        "    ax = fig.add_subplot(111)\n",
        "    cax = ax.matshow(cm)\n",
        "    plt.title('Confusion matrix of the classifier')\n",
        "    fig.colorbar(cax)\n",
        "    ax.set_xticks(np.arange(len(labels)))\n",
        "    ax.set_yticks(np.arange(len(labels)))\n",
        "    ax.set_xticklabels( labels, rotation=45)\n",
        "    ax.set_yticklabels( labels)\n",
        "\n",
        "    for i in range(len(cm)):\n",
        "        for j in range(len(cm)):\n",
        "            text = ax.text(j, i, cm[i, j],\n",
        "                           ha=\"center\", va=\"center\", color=\"w\")\n",
        "\n",
        "    plt.xlabel('Predicted')\n",
        "    plt.ylabel('True')\n",
        "\n",
        "    # fix for mpl bug that cuts off top/bottom of seaborn viz:\n",
        "    b, t = plt.ylim() # discover the values for bottom and top\n",
        "    b += 0.5 # Add 0.5 to the bottom\n",
        "    t -= 0.5 # Subtract 0.5 from the top\n",
        "    plt.ylim(b, t) # update the ylim(bottom, top) values\n",
        "    plt.show() # ta-da!\n",
        "    plt.show()\n"
      ]
    },
    {
      "cell_type": "code",
      "source": [
        "labels = ['negative', 'positive']\n",
        "\n",
        "# Selecting test and training sets. (Test is 1/10 and training 9/10)\n",
        "test_set = train_data[0:2684]\n",
        "train_set = train_data[2684:]\n",
        "\n",
        "classifier = train_classifier(train_set)  # train the classifier on train-set\n",
        "test_true = [t[1] for t in test_set]   # get the ground-truth labels from the source data\n",
        "test_pred = predict_labels([x[0] for x in test_set], classifier)\n",
        "\n",
        "confusion_matrix_heatmap(test_true, test_pred, labels)\n",
        "\n",
        "# Writing the false-positives and false-negatives in a file\n",
        "file_path = 'error_analysis.csv'\n",
        "\n",
        "with open(file_path, 'w', newline='') as csvfile:\n",
        "    csv_writer = csv.writer(csvfile)\n",
        "\n",
        "    # Write the heading row\n",
        "    header = ['Raw Text', 'Features Extracted']\n",
        "    csv_writer.writerow(header)\n",
        "\n",
        "    header = ['------------------', '------------------']\n",
        "    csv_writer.writerow(header)\n",
        "\n",
        "    header = ['FALSE POSITIVES', '']\n",
        "    csv_writer.writerow(header)\n",
        "\n",
        "\n",
        "    # Write False Positives data\n",
        "    for i in range(len(test_true)):\n",
        "        if test_true[i] == 'negative' and test_pred[i] == 'positive':\n",
        "            fp_data = [raw_data[i][0], test_set[i][0]]\n",
        "            csv_writer.writerow(fp_data)\n",
        "\n",
        "    # Bifurcation and False Negatives Header\n",
        "    header = ['------------------', '------------------']\n",
        "    csv_writer.writerow(header)\n",
        "\n",
        "    header = ['FALSE NEGATIVES', '']\n",
        "    csv_writer.writerow(header)\n",
        "\n",
        "\n",
        "    # Write False Negatives data\n",
        "    for i in range(len(test_true)):\n",
        "        if test_true[i] == 'positive' and test_pred[i] == 'negative':\n",
        "            fp_data = [raw_data[i][0], test_set[i][0]]\n",
        "            csv_writer.writerow(fp_data)\n",
        "\n"
      ],
      "metadata": {
        "id": "9DvROwcc4Yfz",
        "colab": {
          "base_uri": "https://localhost:8080/",
          "height": 934
        },
        "outputId": "e959fb6a-ffc1-41fd-dc2d-d5475c066341"
      },
      "execution_count": null,
      "outputs": [
        {
          "output_type": "stream",
          "name": "stdout",
          "text": [
            "Training Classifier...\n"
          ]
        },
        {
          "output_type": "display_data",
          "data": {
            "text/plain": [
              "<Figure size 1000x1000 with 2 Axes>"
            ],
            "image/png": "[encoded data removed]"
          },
          "metadata": {}
        }
      ]
    },
    {
      "cell_type": "markdown",
      "metadata": {
        "id": "-GBk3cRo9y6-"
      },
      "source": [
        "# Optimising pre-processing and feature extraction"
      ]
    },
    {
      "cell_type": "code",
      "execution_count": null,
      "metadata": {
        "id": "k89g2T_99y6-",
        "colab": {
          "base_uri": "https://localhost:8080/"
        },
        "outputId": "c13a3456-93ef-480f-cf96-c8ef815b84ce"
      },
      "outputs": [
        {
          "output_type": "stream",
          "name": "stdout",
          "text": [
            "({'58th': 0.1796053020267749, '58th episode': 0.1796053020267749, 'beyonce': 0.1796053020267749, 'episode': 0.1796053020267749, 'episode hsonair': 0.1796053020267749, 'hsonair': 0.1796053020267749, 'hsonair profiling': 0.1796053020267749, 'll': 0.3592106040535498, 'll release': 0.1796053020267749, 'll talk': 0.1796053020267749, 'profiling': 0.1796053020267749, 'profiling we': 0.1796053020267749, 'release': 0.1796053020267749, 'release 58th': 0.1796053020267749, 'storytelling': 0.1796053020267749, 'storytelling beyonce': 0.1796053020267749, 'talk': 0.1796053020267749, 'talk storytelling': 0.1796053020267749, 'tomorrow': 0.1796053020267749, 'tomorrow we': 0.1796053020267749, 'we': 0.3592106040535498, 'we ll': 0.3592106040535498}, 'positive')\n",
            "Training Classifier...\n",
            "Done training!\n",
            "Precision: 0.865365\n",
            "Recall: 0.866428\n",
            "F Score:0.864271\n"
          ]
        }
      ],
      "source": [
        "# Finally, check the accuracy of your classifier by training on all the traning data\n",
        "# and testing on the test set\n",
        "# Will only work once all functions are complete\n",
        "functions_complete = True  # set to True once you're happy with your methods for cross val\n",
        "if functions_complete:\n",
        "    print(test_data[0])   # have a look at the first test data instance\n",
        "    classifier = train_classifier(train_data)  # train the classifier\n",
        "    test_true = [t[1] for t in test_data]   # get the ground-truth labels from the data\n",
        "    test_pred = predict_labels([x[0] for x in test_data], classifier)  # classify the test data to get predicted labels\n",
        "    final_scores = precision_recall_fscore_support(test_true, test_pred, average='weighted') # evaluate\n",
        "    print(\"Done training!\")\n",
        "    print(\"Precision: %f\\nRecall: %f\\nF Score:%f\" % final_scores[:3])"
      ]
    },
    {
      "cell_type": "code",
      "execution_count": null,
      "metadata": {
        "id": "2J5m0tbt9y6-"
      },
      "outputs": [],
      "source": []
    },
    {
      "cell_type": "code",
      "execution_count": null,
      "metadata": {
        "id": "RUJnJ67d9y6-"
      },
      "outputs": [],
      "source": []
    }
  ],
  "metadata": {
    "kernelspec": {
      "display_name": "Python 3 (ipykernel)",
      "language": "python",
      "name": "python3"
    },
    "language_info": {
      "codemirror_mode": {
        "name": "ipython",
        "version": 3
      },
      "file_extension": ".py",
      "mimetype": "text/x-python",
      "name": "python",
      "nbconvert_exporter": "python",
      "pygments_lexer": "ipython3",
      "version": "3.10.12"
    },
    "colab": {
      "provenance": [],
      "include_colab_link": true
    }
  },
  "nbformat": 4,
  "nbformat_minor": 0
}